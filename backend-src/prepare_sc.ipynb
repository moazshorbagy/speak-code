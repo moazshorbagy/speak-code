{
 "cells": [
  {
   "cell_type": "code",
   "execution_count": 14,
   "metadata": {},
   "outputs": [],
   "source": [
    "from tensorflow.keras.utils import to_categorical\n",
    "from tensorflow.keras.preprocessing.sequence import pad_sequences\n",
    "import pandas as pd\n",
    "import numpy as np\n",
    "import librosa\n",
    "import os\n",
    "\n",
    "from features import get_features\n",
    "from text import encode\n",
    "import constants as c"
   ]
  },
  {
   "cell_type": "code",
   "execution_count": 30,
   "metadata": {},
   "outputs": [],
   "source": [
    "train = pd.DataFrame([\n",
    "    ('SC/train/1.wav', 'deaf variable get max camel case'),\n",
    "    ('SC/train/2.wav', 'brackets'),\n",
    "    ('SC/train/3.wav', 'array one'),\n",
    "    ('SC/train/4.wav', 'to be minus one enter'),\n",
    "    ('SC/train/5.wav', 'for eye in range'),\n",
    "    ('SC/train/6.wav', 'length brackets'),\n",
    "    ('SC/train/7.wav', 'if array one of eye'),\n",
    "    ('SC/train/8.wav', 'move right'),\n",
    "    ('SC/train/9.wav', 'at least'),\n",
    "    ('SC/train/10.wav', 'variable max value snake case'),\n",
    "    ('SC/train/11.wav', 'new scope'),\n",
    "    ('SC/train/12.wav', 'to be array one of eye'),\n",
    "    ('SC/train/13.wav', 'return exit scope'),\n",
    "    ('SC/train/14.wav', 'stop listening')\n",
    "], columns=[\"filename\", \"text\"])\n",
    "\n",
    "train.to_csv(\"SC/sc_train.csv\", sep=\",\", header=True, index=False)\n",
    "\n",
    "train = train.to_numpy()\n",
    "new_train = []"
   ]
  },
  {
   "cell_type": "code",
   "execution_count": null,
   "metadata": {},
   "outputs": [],
   "source": [
    "users = ['moaz', 'hamada', 'khaled']"
   ]
  },
  {
   "cell_type": "code",
   "execution_count": 27,
   "metadata": {},
   "outputs": [],
   "source": [
    "for user in users:\n",
    "    for path, transcript in train:\n",
    "        \n",
    "        file_name = path.split('.')[0] + user + '.wav'\n",
    "        new_train.append((file_name, transcript))\n",
    "        \n",
    "        if(not os.path.exists(file_name + '.X.npy')):\n",
    "            X = get_features(librosa.load(path, sr=c.sample_rate)[0])\n",
    "            X = pad_sequences([X], padding='post', value=c.masking_value, dtype=np.float32, maxlen=c.max_X_seq_len)[0]\n",
    "            np.save(file_name + '.X.npy', X)\n",
    "\n",
    "        if(not os.path.exists(file_name + '.y.npy')):\n",
    "            _y = encode(c.start_token + transcript + c.end_token)    \n",
    "            _y = pad_sequences([_y], padding='post', value=encode(c.pad_token)[0], dtype=np.float32, maxlen=c.max_y_seq_len)[0]\n",
    "            y = to_categorical(_y, num_classes=c.n_output)\n",
    "\n",
    "            y_lag = y.copy()\n",
    "            y_lag = np.delete(y_lag, 0, 0)\n",
    "            pad = np.reshape(to_categorical(encode(c.pad_token)[0], num_classes=c.n_output), (1, -1))\n",
    "            y_lag = np.append(y_lag, pad, 0)\n",
    "\n",
    "            np.save(file_name + '.y.npy', np.array([y, y_lag]))"
   ]
  },
  {
   "cell_type": "code",
   "execution_count": null,
   "metadata": {},
   "outputs": [],
   "source": [
    "pd.DataFrame(new_train, columns=[\"filename\", \"text\"]).to_csv(\"SC/sc_train.csv\", sep=\",\", header=True, index=False)"
   ]
  },
  {
   "cell_type": "code",
   "execution_count": null,
   "metadata": {},
   "outputs": [],
   "source": [
    "shutil.make_archive('SC', 'zip', 'SC')"
   ]
  },
  {
   "cell_type": "code",
   "execution_count": null,
   "metadata": {},
   "outputs": [],
   "source": [
    "from google.cloud import storage\n",
    "\n",
    "bucketName = 'cv-dataset'\n",
    "bucketFolder = 'cv-dataset'\n",
    "localFile = 'SC.zip'\n",
    "cloudFile = 'SC.zip'\n",
    "\n",
    "storage_client = storage.Client()\n",
    "bucket = storage_client.get_bucket(bucketName)\n",
    "\n",
    "blob = bucket.blob(os.path.join(bucketFolder, cloudFile))\n",
    "blob.upload_from_filename(localFile)"
   ]
  }
 ],
 "metadata": {
  "kernelspec": {
   "display_name": "Python 3",
   "language": "python",
   "name": "python3"
  },
  "language_info": {
   "codemirror_mode": {
    "name": "ipython",
    "version": 3
   },
   "file_extension": ".py",
   "mimetype": "text/x-python",
   "name": "python",
   "nbconvert_exporter": "python",
   "pygments_lexer": "ipython3",
   "version": "3.7.6"
  }
 },
 "nbformat": 4,
 "nbformat_minor": 4
}
