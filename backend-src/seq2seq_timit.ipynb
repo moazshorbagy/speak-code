{
  "nbformat": 4,
  "nbformat_minor": 0,
  "metadata": {
    "colab": {
      "name": "seq2seq-timit.ipynb",
      "provenance": [],
      "collapsed_sections": [
        "DiQr9EVPMOcH",
        "le9kYeOAMN1_",
        "aCw5GlbrWKOH"
      ]
    },
    "kernelspec": {
      "name": "python3",
      "display_name": "Python 3"
    },
    "accelerator": "GPU"
  },
  "cells": [
    {
      "cell_type": "markdown",
      "metadata": {
        "id": "DiQr9EVPMOcH",
        "colab_type": "text"
      },
      "source": [
        "## **Dataset and Model Files**"
      ]
    },
    {
      "cell_type": "code",
      "metadata": {
        "id": "dYshG1a0MNLv",
        "colab_type": "code",
        "colab": {}
      },
      "source": [
        "import os\n",
        "os.mkdir('Seq2Seq')"
      ],
      "execution_count": 0,
      "outputs": []
    },
    {
      "cell_type": "code",
      "metadata": {
        "id": "dYj8CPMpMNpI",
        "colab_type": "code",
        "colab": {}
      },
      "source": [
        "from google.colab import files\n",
        "files.upload() #upload kaggle.json"
      ],
      "execution_count": 0,
      "outputs": []
    },
    {
      "cell_type": "markdown",
      "metadata": {
        "id": "InirCi1KMrE5",
        "colab_type": "text"
      },
      "source": [
        "Mount google drive"
      ]
    },
    {
      "cell_type": "code",
      "metadata": {
        "id": "oIg-q7AKMqj9",
        "colab_type": "code",
        "colab": {}
      },
      "source": [
        "from google.colab import drive\n",
        "drive.mount('/content/drive')"
      ],
      "execution_count": 0,
      "outputs": []
    },
    {
      "cell_type": "markdown",
      "metadata": {
        "id": "_W2ZERExM2-X",
        "colab_type": "text"
      },
      "source": [
        "### Download and process TIMIT dataset"
      ]
    },
    {
      "cell_type": "code",
      "metadata": {
        "id": "5YA6vabYM1-5",
        "colab_type": "code",
        "colab": {}
      },
      "source": [
        "!pip install -q kaggle\n",
        "!mkdir -p ~/.kaggle\n",
        "!mv kaggle.json ~/.kaggle/\n",
        "!chmod 600 /root/.kaggle/kaggle.json\n",
        "!kaggle datasets download mfekadu/darpa-timit-acousticphonetic-continuous-speech\n",
        "!unzip -q darpa-timit-acousticphonetic-continuous-speech.zip -d Timit_dataset"
      ],
      "execution_count": 0,
      "outputs": []
    },
    {
      "cell_type": "code",
      "metadata": {
        "id": "No3IXUyBNBeg",
        "colab_type": "code",
        "colab": {}
      },
      "source": [
        "import shutil\n",
        "import os\n",
        "os.mkdir('Seq2Seq/TIMIT')\n",
        "shutil.move('Timit_dataset/data/TRAIN','Seq2Seq/TIMIT')\n",
        "shutil.move('Timit_dataset/data/TEST','Seq2Seq/TIMIT')\n",
        "shutil.rmtree('Timit_dataset', ignore_errors=True)\n",
        "os.remove('darpa-timit-acousticphonetic-continuous-speech.zip')"
      ],
      "execution_count": 0,
      "outputs": []
    },
    {
      "cell_type": "markdown",
      "metadata": {
        "id": "mwrw5QV0NY1Y",
        "colab_type": "text"
      },
      "source": [
        "Move to deepspeech directory"
      ]
    },
    {
      "cell_type": "code",
      "metadata": {
        "id": "J9H6cqWwNBjh",
        "colab_type": "code",
        "colab": {}
      },
      "source": [
        "import os\n",
        "os.chdir('Seq2Seq')"
      ],
      "execution_count": 0,
      "outputs": []
    },
    {
      "cell_type": "markdown",
      "metadata": {
        "id": "mZc2X2hANXUW",
        "colab_type": "text"
      },
      "source": [
        "Upload model files"
      ]
    },
    {
      "cell_type": "code",
      "metadata": {
        "id": "RwnerAp0NBm1",
        "colab_type": "code",
        "colab": {}
      },
      "source": [
        "from google.colab import files\n",
        "files.upload()"
      ],
      "execution_count": 0,
      "outputs": []
    },
    {
      "cell_type": "markdown",
      "metadata": {
        "id": "I3yr1jWDNVgW",
        "colab_type": "text"
      },
      "source": [
        "Prepare TIMIT dataset"
      ]
    },
    {
      "cell_type": "code",
      "metadata": {
        "id": "DYY9Y_U8NBpb",
        "colab_type": "code",
        "colab": {}
      },
      "source": [
        "!python3 prepare_timit.py"
      ],
      "execution_count": 0,
      "outputs": []
    },
    {
      "cell_type": "markdown",
      "metadata": {
        "id": "le9kYeOAMN1_",
        "colab_type": "text"
      },
      "source": [
        "## **Model Training**"
      ]
    },
    {
      "cell_type": "code",
      "metadata": {
        "id": "Q6tLw3IjMkjF",
        "colab_type": "code",
        "colab": {}
      },
      "source": [
        "import constants as c\n",
        "from dataset import create_dataset\n",
        "from visualization import plot_accuracy, plot_loss\n",
        "from model import create_model, create_optimizer, create_loss_function"
      ],
      "execution_count": 0,
      "outputs": []
    },
    {
      "cell_type": "code",
      "metadata": {
        "id": "0y5DfrbNMkqq",
        "colab_type": "code",
        "colab": {}
      },
      "source": [
        "X_train, X_test, y_train, y_test, y_lag_train, y_lag_test = create_dataset()"
      ],
      "execution_count": 0,
      "outputs": []
    },
    {
      "cell_type": "code",
      "metadata": {
        "id": "ZT5xwGdGNgWd",
        "colab_type": "code",
        "colab": {}
      },
      "source": [
        "full_model, encoder_model, decoder_model = create_model(X_train.shape[1], y_train.shape[1])\n",
        "\n",
        "full_model.summary()\n",
        "\n",
        "optimizer = create_optimizer()\n",
        "\n",
        "loss = create_loss_function()\n",
        "\n",
        "full_model.compile(loss='categorical_crossentropy', optimizer=optimizer, metrics=['accuracy'])\n",
        "\n",
        "from tensorflow.keras.utils import plot_model\n",
        "plot_model(encoder_model, to_file='encoder_model.png', show_shapes=True)\n",
        "plot_model(decoder_model, to_file='decoder_model.png', show_shapes=True)\n",
        "plot_model(full_model, to_file='full_model.png', show_shapes=True)"
      ],
      "execution_count": 0,
      "outputs": []
    },
    {
      "cell_type": "code",
      "metadata": {
        "id": "GlhGNNfnNgfM",
        "colab_type": "code",
        "colab": {}
      },
      "source": [
        "history = full_model.fit(\n",
        "    [X_train, y_train],\n",
        "    y_lag_train,\n",
        "    batch_size=c.batch_size,\n",
        "    epochs=20,\n",
        "    initial_epoch=0\n",
        "    )"
      ],
      "execution_count": 0,
      "outputs": []
    },
    {
      "cell_type": "code",
      "metadata": {
        "id": "fqyUu3ICWAds",
        "colab_type": "code",
        "colab": {}
      },
      "source": [
        "plot_accuracy(history)\n",
        "plot_loss(history)"
      ],
      "execution_count": 0,
      "outputs": []
    },
    {
      "cell_type": "code",
      "metadata": {
        "id": "-AikcZAJNgjB",
        "colab_type": "code",
        "colab": {}
      },
      "source": [
        "full_model.save_weights(\"full_model.h5\")\n",
        "encoder_model.save_weights(\"encoder_model.h5\")\n",
        "decoder_model.save_weights(\"decoder_model.h5\")"
      ],
      "execution_count": 0,
      "outputs": []
    },
    {
      "cell_type": "markdown",
      "metadata": {
        "id": "aCw5GlbrWKOH",
        "colab_type": "text"
      },
      "source": [
        "## **Model Predction**"
      ]
    },
    {
      "cell_type": "code",
      "metadata": {
        "id": "M7DCOrOoNgob",
        "colab_type": "code",
        "colab": {}
      },
      "source": [
        "full_model.load_weights(\"/content/drive/My Drive/Colab Notebooks/full_model.h5\")\n",
        "encoder_model.load_weights(\"/content/drive/My Drive/Colab Notebooks/encoder_model.h5\")\n",
        "decoder_model.load_weights(\"/content/drive/My Drive/Colab Notebooks/decoder_model.h5\")"
      ],
      "execution_count": 0,
      "outputs": []
    }
  ]
}