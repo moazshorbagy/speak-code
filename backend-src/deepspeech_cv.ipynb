{
  "nbformat": 4,
  "nbformat_minor": 0,
  "metadata": {
    "colab": {
      "name": "deepspeech-cv.ipynb",
      "provenance": [],
      "collapsed_sections": [
        "7WYek5_e8Pd4"
      ]
    },
    "kernelspec": {
      "name": "python3",
      "display_name": "Python 3"
    },
    "accelerator": "GPU"
  },
  "cells": [
    {
      "cell_type": "markdown",
      "metadata": {
        "id": "vrS01JuJ8VDV",
        "colab_type": "text"
      },
      "source": [
        "# **DeepSpeech with CommonVoice**"
      ]
    },
    {
      "cell_type": "markdown",
      "metadata": {
        "id": "bYsw_wbf6oDe",
        "colab_type": "text"
      },
      "source": [
        "## **Compiled Dataset**"
      ]
    },
    {
      "cell_type": "code",
      "metadata": {
        "id": "LM3Wt0Bv6oM3",
        "colab_type": "code",
        "colab": {}
      },
      "source": [
        "from google.colab import files\n",
        "files.upload() #upload \"gcp_key.json\""
      ],
      "execution_count": 0,
      "outputs": []
    },
    {
      "cell_type": "code",
      "metadata": {
        "id": "hZcBvlPi6tG_",
        "colab_type": "code",
        "colab": {}
      },
      "source": [
        "import os\n",
        "os.environ[\"GOOGLE_APPLICATION_CREDENTIALS\"]=\"/content/gcp_key.json\""
      ],
      "execution_count": 0,
      "outputs": []
    },
    {
      "cell_type": "code",
      "metadata": {
        "id": "oE4tODio6uyj",
        "colab_type": "code",
        "colab": {}
      },
      "source": [
        "from google.cloud import storage\n",
        "\n",
        "bucketName = 'cv-dataset'\n",
        "bucketFolder = 'cv-dataset'\n",
        "fileName = 'CV_large_no_pad.zip'\n",
        "saveAs = 'CV.zip'\n",
        "\n",
        "storage_client = storage.Client()\n",
        "bucket = storage_client.get_bucket(bucketName)\n",
        "\n",
        "def download_file(bucketName, bucketFolder, fileName):\n",
        "    \"\"\"Download file from GCP bucket.\"\"\"\n",
        "    blob = bucket.blob(os.path.join(bucketFolder, fileName))\n",
        "    fileName = blob.name.split('/')[-1]\n",
        "    blob.download_to_filename(saveAs)\n",
        "    return f'{fileName} downloaded from bucket as {saveAs}.'\n",
        "\n",
        "download_file(bucketName, bucketFolder, fileName)"
      ],
      "execution_count": 0,
      "outputs": []
    },
    {
      "cell_type": "code",
      "metadata": {
        "id": "VaTT4Jvv6xMo",
        "colab_type": "code",
        "colab": {}
      },
      "source": [
        "import os\n",
        "os.mkdir('DeepSpeech')"
      ],
      "execution_count": 0,
      "outputs": []
    },
    {
      "cell_type": "code",
      "metadata": {
        "id": "MAMFMFp76ykT",
        "colab_type": "code",
        "colab": {}
      },
      "source": [
        "!unzip -q CV.zip -d DeepSpeech"
      ],
      "execution_count": 0,
      "outputs": []
    },
    {
      "cell_type": "markdown",
      "metadata": {
        "id": "i7dstJl362ls",
        "colab_type": "text"
      },
      "source": [
        "Upload model files"
      ]
    },
    {
      "cell_type": "code",
      "metadata": {
        "id": "FldCEa9W61Oh",
        "colab_type": "code",
        "colab": {}
      },
      "source": [
        "import os\n",
        "os.chdir('DeepSpeech')"
      ],
      "execution_count": 0,
      "outputs": []
    },
    {
      "cell_type": "code",
      "metadata": {
        "id": "ARdovKRS65n5",
        "colab_type": "code",
        "colab": {}
      },
      "source": [
        "from google.colab import files\n",
        "files.upload()"
      ],
      "execution_count": 0,
      "outputs": []
    },
    {
      "cell_type": "markdown",
      "metadata": {
        "id": "cx25S0GI8f7x",
        "colab_type": "text"
      },
      "source": [
        "## **Prepare Dataset and Files**"
      ]
    },
    {
      "cell_type": "code",
      "metadata": {
        "id": "pMuASoUTumZL",
        "colab_type": "code",
        "colab": {}
      },
      "source": [
        "from google.colab import files\n",
        "files.upload() #upload kaggle.json"
      ],
      "execution_count": 0,
      "outputs": []
    },
    {
      "cell_type": "markdown",
      "metadata": {
        "id": "E5tWtwCk4BRX",
        "colab_type": "text"
      },
      "source": [
        "Download and unzip *(takes approx. 12 minutes)*"
      ]
    },
    {
      "cell_type": "code",
      "metadata": {
        "id": "LPg1QVMJuZBZ",
        "colab_type": "code",
        "colab": {}
      },
      "source": [
        "!pip install -q kaggle\n",
        "!mkdir /root/.kaggle\n",
        "!mv /content/kaggle.json ~/.kaggle/kaggle.json\n",
        "!chmod 600 /root/.kaggle/kaggle.json\n",
        "!kaggle datasets download -d mozillaorg/common-voice\n",
        "\n",
        "!mkdir common-voice\n",
        "!unzip -q common-voice.zip -d common-voice"
      ],
      "execution_count": 0,
      "outputs": []
    },
    {
      "cell_type": "markdown",
      "metadata": {
        "id": "7LM7D0bx4JJA",
        "colab_type": "text"
      },
      "source": [
        "Get required files and go to working directory"
      ]
    },
    {
      "cell_type": "code",
      "metadata": {
        "id": "6XBkNKWw1p1B",
        "colab_type": "code",
        "colab": {}
      },
      "source": [
        "import shutil\n",
        "import os\n",
        "\n",
        "os.mkdir('DeepSpeech')\n",
        "os.mkdir('DeepSpeech/CV')\n",
        "shutil.move('common-voice/cv-valid-train/cv-valid-train', 'DeepSpeech/CV')\n",
        "shutil.move('common-voice/cv-valid-test/cv-valid-test', 'DeepSpeech/CV')\n",
        "shutil.move('common-voice/cv-valid-dev/cv-valid-dev', 'DeepSpeech/CV')\n",
        "shutil.move('common-voice/cv-valid-train.csv', 'DeepSpeech/CV')\n",
        "shutil.move('common-voice/cv-valid-test.csv', 'DeepSpeech/CV')\n",
        "shutil.move('common-voice/cv-valid-dev.csv', 'DeepSpeech/CV')\n",
        "\n",
        "shutil.rmtree('common-voice')\n",
        "os.remove('common-voice.zip')\n",
        "os.chdir('DeepSpeech')"
      ],
      "execution_count": 0,
      "outputs": []
    },
    {
      "cell_type": "markdown",
      "metadata": {
        "id": "ILuW_uC04O6S",
        "colab_type": "text"
      },
      "source": [
        "Upload model files"
      ]
    },
    {
      "cell_type": "code",
      "metadata": {
        "id": "Aw8Vi4za4PCr",
        "colab_type": "code",
        "colab": {}
      },
      "source": [
        "files.upload()"
      ],
      "execution_count": 0,
      "outputs": []
    },
    {
      "cell_type": "markdown",
      "metadata": {
        "id": "nm-1HXjj4iPl",
        "colab_type": "text"
      },
      "source": [
        "Prepare common voice dataset"
      ]
    },
    {
      "cell_type": "code",
      "metadata": {
        "id": "avpVizX24hY0",
        "colab_type": "code",
        "colab": {}
      },
      "source": [
        "!python3 prepare_cv.py"
      ],
      "execution_count": 0,
      "outputs": []
    },
    {
      "cell_type": "markdown",
      "metadata": {
        "id": "7WYek5_e8Pd4",
        "colab_type": "text"
      },
      "source": [
        "## **Model Training**"
      ]
    },
    {
      "cell_type": "code",
      "metadata": {
        "id": "qnjTrniK9D6l",
        "colab_type": "code",
        "colab": {}
      },
      "source": [
        "from model import create_model, create_optimizer, create_model_checkpoint_cb, create_lr_scheduler_cb\n",
        "from visualization import plot_accuracy, plot_loss\n",
        "from BeamSearch import ctcBeamSearch\n",
        "from dataset import create_dataset\n",
        "from generator import cv_generator_compiled as generator\n",
        "from text import decode\n",
        "import constants as c\n",
        "\n",
        "from tensorflow.keras.utils import plot_model\n",
        "from tensorflow.keras import backend as k\n",
        "from tensorflow.keras.models import Model\n",
        "import numpy as np"
      ],
      "execution_count": 0,
      "outputs": []
    },
    {
      "cell_type": "code",
      "metadata": {
        "id": "-VQFZtl_9RPv",
        "colab_type": "code",
        "colab": {}
      },
      "source": [
        "model = create_model()\n",
        "\n",
        "model.summary()\n",
        "\n",
        "plot_model(model, to_file='rnn.png')\n",
        "\n",
        "optimizer = create_optimizer()\n",
        "\n",
        "loss = {'ctc': lambda y_true, y_pred: y_pred}\n",
        "\n",
        "model.compile(loss=loss, optimizer=optimizer, metrics=['accuracy'])"
      ],
      "execution_count": 0,
      "outputs": []
    },
    {
      "cell_type": "code",
      "metadata": {
        "id": "yqEzqjrV9RTR",
        "colab_type": "code",
        "outputId": "597a0b01-76f5-47cf-faf3-521fc2b32fd6",
        "colab": {
          "base_uri": "https://localhost:8080/",
          "height": 50
        }
      },
      "source": [
        "import numpy as np\n",
        "import pandas as pd\n",
        "\n",
        "train = pd.read_csv(os.path.join('CV', 'cv_train.csv')).to_numpy()\n",
        "steps_per_epoch = train.shape[0]//c.batch_size\n",
        "dev = pd.read_csv(os.path.join('CV', 'cv_dev.csv')).to_numpy()\n",
        "validation_steps = dev.shape[0]//c.batch_size\n",
        "\n",
        "history = model.fit(\n",
        "    generator(),\n",
        "    steps_per_epoch=steps_per_epoch,\n",
        "    validation_data=generator('dev'),\n",
        "    validation_steps=validation_steps,\n",
        "    callbacks=[create_model_checkpoint_cb(), create_lr_scheduler_cb()],\n",
        "    epochs=2\n",
        "    )"
      ],
      "execution_count": 0,
      "outputs": [
        {
          "output_type": "stream",
          "text": [
            "Epoch 1/2\n",
            "  21/1272 [..............................] - ETA: 2:02:02 - loss: 349.7372 - accuracy: 0.0000e+00"
          ],
          "name": "stdout"
        }
      ]
    },
    {
      "cell_type": "code",
      "metadata": {
        "id": "rb5_NgYR9RWs",
        "colab_type": "code",
        "colab": {}
      },
      "source": [
        "plot_accuracy(history)\n",
        "plot_loss(history)\n",
        "\n",
        "model.load_weights(c.checkpoint_filepath)\n",
        "model.save('model.h5')"
      ],
      "execution_count": 0,
      "outputs": []
    },
    {
      "cell_type": "markdown",
      "metadata": {
        "id": "9kz1jDt-7D2u",
        "colab_type": "text"
      },
      "source": [
        "## **Model Training**"
      ]
    },
    {
      "cell_type": "code",
      "metadata": {
        "id": "aDbVnpwH9RZj",
        "colab_type": "code",
        "colab": {}
      },
      "source": [
        "sub_model = Model(inputs=model.get_layer('masking_layer').input, outputs=model.get_layer('output_layer').output)\n",
        "\n",
        "for i in range(15):\n",
        "    data = X_test[i]\n",
        "    d = np.array([data])\n",
        "    \n",
        "    prediction=sub_model.predict(d)\n",
        "    output = k.get_value(prediction)        \n",
        "    path = ctcBeamSearch(output[0], ''.join(c.alphabet), None)\n",
        "\n",
        "    print('true:', decode(y_test[i]))\n",
        "    print('pred:', path)\n",
        "    print()"
      ],
      "execution_count": 0,
      "outputs": []
    }
  ]
}