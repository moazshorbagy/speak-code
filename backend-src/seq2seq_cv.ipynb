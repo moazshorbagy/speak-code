{
  "nbformat": 4,
  "nbformat_minor": 0,
  "metadata": {
    "colab": {
      "name": "seq2seq-cv.ipynb",
      "provenance": [],
      "collapsed_sections": []
    },
    "kernelspec": {
      "name": "python3",
      "display_name": "Python 3"
    },
    "accelerator": "GPU"
  },
  "cells": [
    {
      "cell_type": "markdown",
      "metadata": {
        "id": "rkvWMTWsP85u",
        "colab_type": "text"
      },
      "source": [
        "## **Dataset and Model Files**"
      ]
    },
    {
      "cell_type": "code",
      "metadata": {
        "id": "iTFsT__a6-Uq",
        "colab_type": "code",
        "colab": {}
      },
      "source": [
        "import os\n",
        "os.mkdir('Seq2Seq')"
      ],
      "execution_count": 0,
      "outputs": []
    },
    {
      "cell_type": "code",
      "metadata": {
        "id": "OfjZrd495ZlJ",
        "colab_type": "code",
        "colab": {}
      },
      "source": [
        "from google.colab import files\n",
        "files.upload() #upload kaggle.json"
      ],
      "execution_count": 0,
      "outputs": []
    },
    {
      "cell_type": "markdown",
      "metadata": {
        "id": "8nv8plCfwWr-",
        "colab_type": "text"
      },
      "source": [
        "Mount google drive"
      ]
    },
    {
      "cell_type": "code",
      "metadata": {
        "id": "g31ig3DKHk9l",
        "colab_type": "code",
        "colab": {}
      },
      "source": [
        "from google.colab import drive\n",
        "drive.mount('/content/drive')"
      ],
      "execution_count": 0,
      "outputs": []
    },
    {
      "cell_type": "markdown",
      "metadata": {
        "id": "KBRZF1-7MM1U",
        "colab_type": "text"
      },
      "source": [
        "### Download and process Common Voice dataset"
      ]
    },
    {
      "cell_type": "markdown",
      "metadata": {
        "id": "ZXw5ZjDSTbWv",
        "colab_type": "text"
      },
      "source": [
        "Download and unzip (takes approx. 12 minutes)"
      ]
    },
    {
      "cell_type": "code",
      "metadata": {
        "id": "IhpUOx3sQiyt",
        "colab_type": "code",
        "colab": {}
      },
      "source": [
        "!pip install -q kaggle\n",
        "!mkdir /root/.kaggle\n",
        "!mv /content/kaggle.json ~/.kaggle/kaggle.json\n",
        "!chmod 600 /root/.kaggle/kaggle.json\n",
        "!kaggle datasets download -d mozillaorg/common-voice\n",
        "\n",
        "!mkdir common-voice\n",
        "!unzip -q common-voice.zip -d common-voice"
      ],
      "execution_count": 0,
      "outputs": []
    },
    {
      "cell_type": "markdown",
      "metadata": {
        "id": "kPF9MimlTeEB",
        "colab_type": "text"
      },
      "source": [
        "Get required files only"
      ]
    },
    {
      "cell_type": "code",
      "metadata": {
        "id": "4a-C7lxGTeMO",
        "colab_type": "code",
        "colab": {}
      },
      "source": [
        "import shutil\n",
        "\n",
        "os.mkdir('Seq2Seq/CV')\n",
        "shutil.move('common-voice/cv-valid-train/cv-valid-train', 'Seq2Seq/CV')\n",
        "shutil.move('common-voice/cv-valid-test/cv-valid-test', 'Seq2Seq/CV')\n",
        "shutil.move('common-voice/cv-valid-dev/cv-valid-dev', 'Seq2Seq/CV')\n",
        "shutil.move('common-voice/cv-valid-train.csv', 'Seq2Seq/CV')\n",
        "shutil.move('common-voice/cv-valid-test.csv', 'Seq2Seq/CV')\n",
        "shutil.move('common-voice/cv-valid-dev.csv', 'Seq2Seq/CV')\n",
        "\n",
        "shutil.rmtree('common-voice')\n",
        "os.remove('common-voice.zip')"
      ],
      "execution_count": 0,
      "outputs": []
    },
    {
      "cell_type": "markdown",
      "metadata": {
        "id": "jpSgnWzY8LrJ",
        "colab_type": "text"
      },
      "source": [
        "Move to deepspeech directory"
      ]
    },
    {
      "cell_type": "code",
      "metadata": {
        "id": "53xOpQgmAe6l",
        "colab_type": "code",
        "colab": {}
      },
      "source": [
        "import os\n",
        "os.chdir('Seq2Seq')"
      ],
      "execution_count": 0,
      "outputs": []
    },
    {
      "cell_type": "markdown",
      "metadata": {
        "id": "gXr6rl_Izkwb",
        "colab_type": "text"
      },
      "source": [
        "Upload model files"
      ]
    },
    {
      "cell_type": "code",
      "metadata": {
        "id": "W8yBxNYOAdsu",
        "colab_type": "code",
        "colab": {}
      },
      "source": [
        "from google.colab import files\n",
        "files.upload()"
      ],
      "execution_count": 0,
      "outputs": []
    },
    {
      "cell_type": "markdown",
      "metadata": {
        "id": "wN259dV4XiLN",
        "colab_type": "text"
      },
      "source": [
        "Prepare Common Voice dataset (takes approx. 100 minutes)"
      ]
    },
    {
      "cell_type": "code",
      "metadata": {
        "id": "I0j2LkQ28OwH",
        "colab_type": "code",
        "colab": {}
      },
      "source": [
        "!python3 prepare_cv.py"
      ],
      "execution_count": 0,
      "outputs": []
    },
    {
      "cell_type": "markdown",
      "metadata": {
        "id": "8wK5Z-X1WI7T",
        "colab_type": "text"
      },
      "source": [
        "## **Model Training**"
      ]
    },
    {
      "cell_type": "code",
      "metadata": {
        "id": "jFHZMRjt2WaG",
        "colab_type": "code",
        "colab": {}
      },
      "source": [
        "import constants as c\n",
        "from cv_generator import generator\n",
        "from visualization import plot_accuracy, plot_loss\n",
        "from model import create_model, create_optimizer, create_loss_function"
      ],
      "execution_count": 0,
      "outputs": []
    },
    {
      "cell_type": "code",
      "metadata": {
        "id": "btOID9CV2WfJ",
        "colab_type": "code",
        "colab": {
          "base_uri": "https://localhost:8080/",
          "height": 1000
        },
        "outputId": "15641abb-e611-4d32-b019-9cfff690a8b7"
      },
      "source": [
        "full_model, encoder_model, decoder_model = create_model(c.max_X_seq_len, c.max_y_seq_len)\n",
        "\n",
        "full_model.summary()\n",
        "\n",
        "optimizer = create_optimizer()\n",
        "\n",
        "loss = create_loss_function()\n",
        "\n",
        "full_model.compile(loss='categorical_crossentropy', optimizer=optimizer, metrics=['accuracy'])\n",
        "\n",
        "from tensorflow.keras.utils import plot_model\n",
        "plot_model(encoder_model, to_file='encoder_model.png', show_shapes=True)\n",
        "plot_model(decoder_model, to_file='decoder_model.png', show_shapes=True)\n",
        "plot_model(full_model, to_file='full_model.png', show_shapes=True)"
      ],
      "execution_count": 10,
      "outputs": [
        {
          "output_type": "stream",
          "text": [
            "Model: \"model\"\n",
            "__________________________________________________________________________________________________\n",
            "Layer (type)                    Output Shape         Param #     Connected to                     \n",
            "==================================================================================================\n",
            "encoder_input (InputLayer)      [(None, 620, 13)]    0                                            \n",
            "__________________________________________________________________________________________________\n",
            "bidirectional_encoder (Bidirect multiple             69000       encoder_input[0][0]              \n",
            "__________________________________________________________________________________________________\n",
            "decoder_input (InputLayer)      [(None, 32, 30)]     0                                            \n",
            "__________________________________________________________________________________________________\n",
            "concatenate (Concatenate)       (None, 200)          0           bidirectional_encoder[0][1]      \n",
            "                                                                 bidirectional_encoder[0][2]      \n",
            "__________________________________________________________________________________________________\n",
            "decoder_gru (GRU)               multiple             139200      decoder_input[0][0]              \n",
            "                                                                 concatenate[0][0]                \n",
            "__________________________________________________________________________________________________\n",
            "attention_layer (AttentionLayer multiple             80200       bidirectional_encoder[0][0]      \n",
            "                                                                 decoder_gru[0][0]                \n",
            "__________________________________________________________________________________________________\n",
            "concat_layer (Concatenate)      (None, 32, 400)      0           decoder_gru[0][0]                \n",
            "                                                                 attention_layer[0][0]            \n",
            "__________________________________________________________________________________________________\n",
            "time_distributed_layer (TimeDis (None, 32, 30)       12030       concat_layer[0][0]               \n",
            "==================================================================================================\n",
            "Total params: 300,430\n",
            "Trainable params: 300,430\n",
            "Non-trainable params: 0\n",
            "__________________________________________________________________________________________________\n"
          ],
          "name": "stdout"
        },
        {
          "output_type": "execute_result",
          "data": {
            "image/png": "[encoded data removed]",
            "text/plain": [
              "<IPython.core.display.Image object>"
            ]
          },
          "metadata": {
            "tags": []
          },
          "execution_count": 10
        }
      ]
    },
    {
      "cell_type": "code",
      "metadata": {
        "id": "mVOPPgxU2dZu",
        "colab_type": "code",
        "colab": {
          "base_uri": "https://localhost:8080/",
          "height": 0
        },
        "outputId": "44976347-acf2-49f7-bb99-09df0a758831"
      },
      "source": [
        "import numpy as np\n",
        "import pandas as pd\n",
        "train = pd.read_csv(os.path.join('CV', 'cv_train.csv')).to_numpy()\n",
        "steps_per_epoch = int(np.ceil(train.shape[0]/c.batch_size))\n",
        "dev = pd.read_csv(os.path.join('CV', 'cv_dev.csv')).to_numpy()\n",
        "validation_steps = int(np.ceil(dev.shape[0]/c.batch_size))\n",
        "\n",
        "history = full_model.fit(\n",
        "    generator(),\n",
        "    steps_per_epoch=steps_per_epoch,\n",
        "    validation_data=generator('dev'),\n",
        "    validation_steps=validation_steps,\n",
        "    epochs=100,\n",
        "    initial_epoch=0\n",
        "    )"
      ],
      "execution_count": 0,
      "outputs": [
        {
          "output_type": "stream",
          "text": [
            "Epoch 1/100\n",
            "401/401 [==============================] - 324s 808ms/step - loss: 1.8582 - accuracy: 0.4648 - val_loss: 1.5017 - val_accuracy: 0.5490\n",
            "Epoch 2/100\n",
            "401/401 [==============================] - 320s 797ms/step - loss: 1.3691 - accuracy: 0.5921 - val_loss: 1.2824 - val_accuracy: 0.6210\n",
            "Epoch 3/100\n",
            "401/401 [==============================] - 322s 802ms/step - loss: 1.1332 - accuracy: 0.6661 - val_loss: 1.1081 - val_accuracy: 0.6725\n",
            "Epoch 4/100\n",
            "401/401 [==============================] - 319s 794ms/step - loss: 0.9135 - accuracy: 0.7328 - val_loss: 0.9259 - val_accuracy: 0.7273\n",
            "Epoch 5/100\n",
            "401/401 [==============================] - 320s 799ms/step - loss: 0.7420 - accuracy: 0.7843 - val_loss: 0.8176 - val_accuracy: 0.7616\n",
            "Epoch 6/100\n",
            "401/401 [==============================] - 318s 793ms/step - loss: 0.6130 - accuracy: 0.8225 - val_loss: 0.6824 - val_accuracy: 0.8029\n",
            "Epoch 7/100\n",
            "401/401 [==============================] - 318s 793ms/step - loss: 0.5183 - accuracy: 0.8498 - val_loss: 0.6299 - val_accuracy: 0.8154\n",
            "Epoch 8/100\n",
            "401/401 [==============================] - 321s 801ms/step - loss: 0.4434 - accuracy: 0.8714 - val_loss: 0.5433 - val_accuracy: 0.8370\n",
            "Epoch 9/100\n",
            "401/401 [==============================] - 320s 797ms/step - loss: 0.3853 - accuracy: 0.8874 - val_loss: 0.4991 - val_accuracy: 0.8525\n",
            "Epoch 10/100\n",
            "401/401 [==============================] - 320s 798ms/step - loss: 0.3384 - accuracy: 0.9010 - val_loss: 0.4473 - val_accuracy: 0.8671\n",
            "Epoch 11/100\n",
            "401/401 [==============================] - 321s 800ms/step - loss: 0.2991 - accuracy: 0.9123 - val_loss: 0.4234 - val_accuracy: 0.8768\n",
            "Epoch 12/100\n",
            "401/401 [==============================] - 323s 805ms/step - loss: 0.2679 - accuracy: 0.9214 - val_loss: 0.3944 - val_accuracy: 0.8847\n",
            "Epoch 13/100\n",
            "387/401 [===========================>..] - ETA: 10s - loss: 0.2430 - accuracy: 0.9286"
          ],
          "name": "stdout"
        }
      ]
    },
    {
      "cell_type": "code",
      "metadata": {
        "id": "9tKf7RfpcNcQ",
        "colab_type": "code",
        "colab": {}
      },
      "source": [
        "plot_accuracy(history)\n",
        "plot_loss(history)"
      ],
      "execution_count": 0,
      "outputs": []
    },
    {
      "cell_type": "code",
      "metadata": {
        "id": "MiDe0Cvx2QOJ",
        "colab_type": "code",
        "colab": {}
      },
      "source": [
        "full_model.save_weights(\"full_model.h5\")\n",
        "encoder_model.save_weights(\"encoder_model.h5\")\n",
        "decoder_model.save_weights(\"decoder_model.h5\")"
      ],
      "execution_count": 0,
      "outputs": []
    },
    {
      "cell_type": "markdown",
      "metadata": {
        "id": "9WeaK4aD41SX",
        "colab_type": "text"
      },
      "source": [
        "## **Delete Me**"
      ]
    },
    {
      "cell_type": "code",
      "metadata": {
        "id": "AombIpkh41ZI",
        "colab_type": "code",
        "colab": {}
      },
      "source": [
        "import numpy as np\n",
        "import pandas as pd\n",
        "from sklearn.model_selection import train_test_split\n",
        "from tensorflow.keras.preprocessing.sequence import pad_sequences\n",
        "from tensorflow.keras.utils import to_categorical\n",
        "\n",
        "import os\n",
        "\n",
        "import constants as c\n",
        "from text import encode\n",
        "from features import get_features"
      ],
      "execution_count": 0,
      "outputs": []
    },
    {
      "cell_type": "code",
      "metadata": {
        "id": "-Ufwp8UW49NF",
        "colab_type": "code",
        "outputId": "e7561d46-d8b0-49f4-f108-0fb938b0b830",
        "colab": {
          "base_uri": "https://localhost:8080/",
          "height": 34
        }
      },
      "source": [
        "data = pd.read_csv(os.path.join('CV', 'cv_all.csv')).to_numpy()\n",
        "\n",
        "max_X = 0\n",
        "max_y = 0\n",
        "\n",
        "X_lengths = np.zeros(data.shape[0])\n",
        "\n",
        "for i, (path, transcript) in enumerate(data):\n",
        "    \n",
        "    X = get_features(np.load(path + '.npy'))\n",
        "    y = encode(c.start_token + transcript + c.end_token)\n",
        "    \n",
        "    X_lengths[i] = X.shape[0]\n",
        "\n",
        "    if(X.shape[0] > max_X):\n",
        "        max_X = X.shape[0]\n",
        "    \n",
        "    if(y.shape[0] > max_y):\n",
        "        max_y = y.shape[0]\n",
        "\n",
        "max_X, max_y"
      ],
      "execution_count": 0,
      "outputs": [
        {
          "output_type": "execute_result",
          "data": {
            "text/plain": [
              "(620, 22)"
            ]
          },
          "metadata": {
            "tags": []
          },
          "execution_count": 18
        }
      ]
    },
    {
      "cell_type": "code",
      "metadata": {
        "id": "8R1nMWIa_U4G",
        "colab_type": "code",
        "outputId": "9ae7ecad-d84c-468f-f055-4aed65942464",
        "colab": {
          "base_uri": "https://localhost:8080/",
          "height": 592
        }
      },
      "source": [
        "import matplotlib.pyplot as plt\n",
        "\n",
        "plt.figure(figsize=(10, 10))\n",
        "plt.xticks(np.arange(0, max_X, step=620))\n",
        "plt.hist(X_lengths, bins=240)\n",
        "plt.show()"
      ],
      "execution_count": 0,
      "outputs": [
        {
          "output_type": "display_data",
          "data": {
            "image/png": "[encoded data removed]",
            "text/plain": [
              "<Figure size 720x720 with 1 Axes>"
            ]
          },
          "metadata": {
            "tags": [],
            "needs_background": "light"
          }
        }
      ]
    },
    {
      "cell_type": "code",
      "metadata": {
        "id": "AKZSY62YDJgn",
        "colab_type": "code",
        "outputId": "fcea9786-4f02-4de5-8fdc-2890df847496",
        "colab": {
          "base_uri": "https://localhost:8080/",
          "height": 67
        }
      },
      "source": [
        "np.argmax(X_lengths)\n",
        "data[7248]"
      ],
      "execution_count": 0,
      "outputs": [
        {
          "output_type": "execute_result",
          "data": {
            "text/plain": [
              "array(['CV/cv-valid-train/sample-074965.mp3',\n",
              "       'a boy came running towards me', 49, 3, nan, nan, nan, nan],\n",
              "      dtype=object)"
            ]
          },
          "metadata": {
            "tags": []
          },
          "execution_count": 26
        }
      ]
    },
    {
      "cell_type": "code",
      "metadata": {
        "id": "ue-w_2pcnev-",
        "colab_type": "code",
        "colab": {}
      },
      "source": [
        "import IPython.display as ipd\n",
        "import numpy as np\n",
        "ipd.Audio(np.load('CV/cv-valid-train/sample-074965.mp3.npy'), rate=8000)"
      ],
      "execution_count": 0,
      "outputs": []
    }
  ]
}